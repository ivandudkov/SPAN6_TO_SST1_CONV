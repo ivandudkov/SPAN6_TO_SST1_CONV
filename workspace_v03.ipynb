{
 "cells": [
  {
   "cell_type": "code",
   "execution_count": 6,
   "metadata": {},
   "outputs": [
    {
     "name": "stdout",
     "output_type": "stream",
     "text": [
      "The autoreload extension is already loaded. To reload it, use:\n",
      "  %reload_ext autoreload\n"
     ]
    }
   ],
   "source": [
    "%load_ext autoreload\n",
    "%autoreload 2\n",
    "\n",
    "import abc\n",
    "import io\n",
    "import struct\n",
    "from collections import defaultdict, namedtuple\n",
    "\n",
    "import numpy as np\n",
    "import read_span6_data as rs6\n",
    "from span2tss1 import create_tss1\n",
    "\n",
    "def rad_to_deg(rad):\n",
    "    return rad*180/np.pi"
   ]
  },
  {
   "cell_type": "code",
   "execution_count": 13,
   "metadata": {},
   "outputs": [
    {
     "name": "stdout",
     "output_type": "stream",
     "text": [
      "51635578\n",
      "319380\n",
      "Header is unknown or buffer is not at header start\n"
     ]
    }
   ],
   "source": [
    "data_span6 = r'C:\\git_repo\\CPT6_SST1_Converter\\data\\20231213124021_svVexel_1312green2.span6'\n",
    "\n",
    "with open(data_span6, 'rb') as f1:\n",
    "    buffer = f1.read()\n",
    "\n",
    "message_ids = []\n",
    "start = 0\n",
    "loop = True\n",
    "raw_imu_dict = {}\n",
    "\n",
    "\n",
    "def read_span6_message(buffer, message_id, verbose=False):\n",
    "    message = rs6.messages_dict[str(message_id)]\n",
    "    message_array = message._struct.unpack(buffer[0:message.size])\n",
    "    message_dict = {}\n",
    "    \n",
    "    for num, name in enumerate(message._names):\n",
    "        message_dict[name] = message_array[num]\n",
    "    \n",
    "    \n",
    "    if verbose:\n",
    "        for num, name in enumerate(message._names):\n",
    "            print(f'{name} : {message_array[num]}')\n",
    "            \n",
    "    return message_dict\n",
    "\n",
    "messages = []\n",
    "\n",
    "while loop:\n",
    "    try:\n",
    "        if len(buffer) == end:\n",
    "            loop = False\n",
    "\n",
    "        header_dict, header_len = rs6.read_span6_header(buffer[start:])\n",
    "        message_len = header_dict[\"message_length\"]\n",
    "        mid = header_dict['message_id']\n",
    "        end = start+header_len+message_len+4\n",
    "        messages.append(mid)\n",
    "        # if mid == 1457:\n",
    "        #     read_span6_message(buffer[start+header_len:end], mid,True)\n",
    "            # tss1 = create_tss1(hor_accel=, vert_accel=, heave=, roll=, roll=, pitch=)\n",
    "                \n",
    "            # loop = False\n",
    "                    \n",
    "        start = end\n",
    "    except RuntimeError as a:\n",
    "        print(buffer[end-5:15])\n",
    "        print(len(buffer))\n",
    "        print(end)\n",
    "        \n",
    "        print(a)\n",
    "        loop = False\n",
    "\n",
    "\n",
    "\n",
    "\n"
   ]
  },
  {
   "cell_type": "code",
   "execution_count": null,
   "metadata": {},
   "outputs": [],
   "source": []
  },
  {
   "cell_type": "code",
   "execution_count": null,
   "metadata": {},
   "outputs": [],
   "source": []
  },
  {
   "cell_type": "code",
   "execution_count": null,
   "metadata": {},
   "outputs": [],
   "source": []
  },
  {
   "cell_type": "code",
   "execution_count": null,
   "metadata": {},
   "outputs": [],
   "source": [
    "accel_z = raw_imu_dict[\"z_accel\"] * accel_scale_factor\n",
    "accel_x = raw_imu_dict[\"x_accel\"] * accel_scale_factor\n",
    "accel_y = raw_imu_dict[\"y_accel\"] * accel_scale_factor\n",
    "# A negative value implies the output is along the positive y-axis marked on the IMU\n",
    "# A positive value implies the change is in the direction opposite to that of the y-axis marked on the IMU.\n",
    "\n",
    "print(f\"accel z {accel_z:.05f} m/s\")\n",
    "print(f\"accel x {accel_x:.05f} m/s\")\n",
    "print(f\"accel y {accel_y:.05f} m/s\")\n",
    "\n",
    "print(f\"accel z {accel_z*200:.05f} m/s^2\")\n",
    "print(f\"accel x {accel_x*200:.05f} m/s^2\")\n",
    "print(f\"accel y {accel_y*200:.05f} m/s^2\")\n",
    "\n",
    "gyro_z = rad_to_deg(raw_imu_dict[\"z_gyro\"] * gyro_scale_factor)\n",
    "gyro_x = rad_to_deg(raw_imu_dict[\"x_gyro\"] * gyro_scale_factor)\n",
    "gyro_y = rad_to_deg(raw_imu_dict[\"y_gyro\"] * gyro_scale_factor)\n",
    "# A negative value implies the output is along the positive y-axis marked on the IMU\n",
    "# A positive value implies the change is in the direction opposite to that of the y-axis marked on the IMU.\n",
    "\n",
    "print(f\"gyro z {gyro_z:.05f} deg\")\n",
    "print(f\"gyro x {gyro_x:.05f} deg\")\n",
    "print(f\"gyro y {gyro_y:.05f} deg\")"
   ]
  }
 ],
 "metadata": {
  "kernelspec": {
   "display_name": "id_13pc",
   "language": "python",
   "name": "python3"
  },
  "language_info": {
   "codemirror_mode": {
    "name": "ipython",
    "version": 3
   },
   "file_extension": ".py",
   "mimetype": "text/x-python",
   "name": "python",
   "nbconvert_exporter": "python",
   "pygments_lexer": "ipython3",
   "version": "3.12.2"
  }
 },
 "nbformat": 4,
 "nbformat_minor": 2
}

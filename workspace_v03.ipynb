{
 "cells": [
  {
   "cell_type": "code",
   "execution_count": 21,
   "metadata": {},
   "outputs": [
    {
     "name": "stdout",
     "output_type": "stream",
     "text": [
      "The autoreload extension is already loaded. To reload it, use:\n",
      "  %reload_ext autoreload\n"
     ]
    }
   ],
   "source": [
    "%load_ext autoreload\n",
    "%autoreload 2\n",
    "\n",
    "import numpy as np\n",
    "import serial\n",
    "import serial.tools.list_ports\n",
    "\n",
    "import span6_to_tss1 as rs6\n",
    "\n",
    "def rad_to_deg(rad):\n",
    "    return rad*180/np.pi\n",
    "\n",
    "rng = np.random.default_rng()"
   ]
  },
  {
   "cell_type": "code",
   "execution_count": 123,
   "metadata": {},
   "outputs": [
    {
     "name": "stdout",
     "output_type": "stream",
     "text": [
      "COM6\n",
      "COM5\n",
      "COM3\n",
      "COM4\n"
     ]
    }
   ],
   "source": [
    "# tool for comport \n",
    "import serial.tools.list_ports\n",
    "\n",
    "for port in serial.tools.list_ports.comports():\n",
    "    print(port.name)\n",
    "\n"
   ]
  },
  {
   "cell_type": "code",
   "execution_count": null,
   "metadata": {},
   "outputs": [],
   "source": [
    "# set up the serial connection\n",
    "print(\"please, configure serial communication\")\n",
    "print(\"com port name:\")\n",
    "port_name = input()\n",
    "print(\"Pick appropriate baud rate:\")\n",
    "baud_rate = input()\n",
    "\n"
   ]
  },
  {
   "cell_type": "code",
   "execution_count": 22,
   "metadata": {},
   "outputs": [
    {
     "ename": "SerialException",
     "evalue": "could not open port 'COM5': PermissionError(13, 'Отказано в доступе.', None, 5)",
     "output_type": "error",
     "traceback": [
      "\u001b[1;31m---------------------------------------------------------------------------\u001b[0m",
      "\u001b[1;31mSerialException\u001b[0m                           Traceback (most recent call last)",
      "Cell \u001b[1;32mIn[22], line 1\u001b[0m\n\u001b[1;32m----> 1\u001b[0m ser \u001b[38;5;241m=\u001b[39m \u001b[43mserial\u001b[49m\u001b[38;5;241;43m.\u001b[39;49m\u001b[43mSerial\u001b[49m\u001b[43m(\u001b[49m\u001b[38;5;124;43m'\u001b[39;49m\u001b[38;5;124;43mCOM5\u001b[39;49m\u001b[38;5;124;43m'\u001b[39;49m\u001b[43m,\u001b[49m\u001b[43m \u001b[49m\u001b[38;5;241;43m115200\u001b[39;49m\u001b[43m,\u001b[49m\u001b[43m \u001b[49m\u001b[43mtimeout\u001b[49m\u001b[38;5;241;43m=\u001b[39;49m\u001b[38;5;241;43m1\u001b[39;49m\u001b[43m)\u001b[49m\n",
      "File \u001b[1;32mc:\\Users\\id_pc13\\anaconda3\\envs\\id_13pc\\Lib\\site-packages\\serial\\serialwin32.py:33\u001b[0m, in \u001b[0;36mSerial.__init__\u001b[1;34m(self, *args, **kwargs)\u001b[0m\n\u001b[0;32m     31\u001b[0m \u001b[38;5;28mself\u001b[39m\u001b[38;5;241m.\u001b[39m_overlapped_read \u001b[38;5;241m=\u001b[39m \u001b[38;5;28;01mNone\u001b[39;00m\n\u001b[0;32m     32\u001b[0m \u001b[38;5;28mself\u001b[39m\u001b[38;5;241m.\u001b[39m_overlapped_write \u001b[38;5;241m=\u001b[39m \u001b[38;5;28;01mNone\u001b[39;00m\n\u001b[1;32m---> 33\u001b[0m \u001b[38;5;28;43msuper\u001b[39;49m\u001b[43m(\u001b[49m\u001b[43mSerial\u001b[49m\u001b[43m,\u001b[49m\u001b[43m \u001b[49m\u001b[38;5;28;43mself\u001b[39;49m\u001b[43m)\u001b[49m\u001b[38;5;241;43m.\u001b[39;49m\u001b[38;5;21;43m__init__\u001b[39;49m\u001b[43m(\u001b[49m\u001b[38;5;241;43m*\u001b[39;49m\u001b[43margs\u001b[49m\u001b[43m,\u001b[49m\u001b[43m \u001b[49m\u001b[38;5;241;43m*\u001b[39;49m\u001b[38;5;241;43m*\u001b[39;49m\u001b[43mkwargs\u001b[49m\u001b[43m)\u001b[49m\n",
      "File \u001b[1;32mc:\\Users\\id_pc13\\anaconda3\\envs\\id_13pc\\Lib\\site-packages\\serial\\serialutil.py:244\u001b[0m, in \u001b[0;36mSerialBase.__init__\u001b[1;34m(self, port, baudrate, bytesize, parity, stopbits, timeout, xonxoff, rtscts, write_timeout, dsrdtr, inter_byte_timeout, exclusive, **kwargs)\u001b[0m\n\u001b[0;32m    241\u001b[0m     \u001b[38;5;28;01mraise\u001b[39;00m \u001b[38;5;167;01mValueError\u001b[39;00m(\u001b[38;5;124m'\u001b[39m\u001b[38;5;124munexpected keyword arguments: \u001b[39m\u001b[38;5;132;01m{!r}\u001b[39;00m\u001b[38;5;124m'\u001b[39m\u001b[38;5;241m.\u001b[39mformat(kwargs))\n\u001b[0;32m    243\u001b[0m \u001b[38;5;28;01mif\u001b[39;00m port \u001b[38;5;129;01mis\u001b[39;00m \u001b[38;5;129;01mnot\u001b[39;00m \u001b[38;5;28;01mNone\u001b[39;00m:\n\u001b[1;32m--> 244\u001b[0m     \u001b[38;5;28;43mself\u001b[39;49m\u001b[38;5;241;43m.\u001b[39;49m\u001b[43mopen\u001b[49m\u001b[43m(\u001b[49m\u001b[43m)\u001b[49m\n",
      "File \u001b[1;32mc:\\Users\\id_pc13\\anaconda3\\envs\\id_13pc\\Lib\\site-packages\\serial\\serialwin32.py:64\u001b[0m, in \u001b[0;36mSerial.open\u001b[1;34m(self)\u001b[0m\n\u001b[0;32m     62\u001b[0m \u001b[38;5;28;01mif\u001b[39;00m \u001b[38;5;28mself\u001b[39m\u001b[38;5;241m.\u001b[39m_port_handle \u001b[38;5;241m==\u001b[39m win32\u001b[38;5;241m.\u001b[39mINVALID_HANDLE_VALUE:\n\u001b[0;32m     63\u001b[0m     \u001b[38;5;28mself\u001b[39m\u001b[38;5;241m.\u001b[39m_port_handle \u001b[38;5;241m=\u001b[39m \u001b[38;5;28;01mNone\u001b[39;00m    \u001b[38;5;66;03m# 'cause __del__ is called anyway\u001b[39;00m\n\u001b[1;32m---> 64\u001b[0m     \u001b[38;5;28;01mraise\u001b[39;00m SerialException(\u001b[38;5;124m\"\u001b[39m\u001b[38;5;124mcould not open port \u001b[39m\u001b[38;5;132;01m{!r}\u001b[39;00m\u001b[38;5;124m: \u001b[39m\u001b[38;5;132;01m{!r}\u001b[39;00m\u001b[38;5;124m\"\u001b[39m\u001b[38;5;241m.\u001b[39mformat(\u001b[38;5;28mself\u001b[39m\u001b[38;5;241m.\u001b[39mportstr, ctypes\u001b[38;5;241m.\u001b[39mWinError()))\n\u001b[0;32m     66\u001b[0m \u001b[38;5;28;01mtry\u001b[39;00m:\n\u001b[0;32m     67\u001b[0m     \u001b[38;5;28mself\u001b[39m\u001b[38;5;241m.\u001b[39m_overlapped_read \u001b[38;5;241m=\u001b[39m win32\u001b[38;5;241m.\u001b[39mOVERLAPPED()\n",
      "\u001b[1;31mSerialException\u001b[0m: could not open port 'COM5': PermissionError(13, 'Отказано в доступе.', None, 5)"
     ]
    }
   ],
   "source": [
    "ser = serial.Serial('COM5', 115200, timeout=1)"
   ]
  },
  {
   "cell_type": "code",
   "execution_count": null,
   "metadata": {},
   "outputs": [],
   "source": [
    "if ser.isOpen():\n",
    "    print('Serial connection established!')\n",
    "else:\n",
    "    print('Error: Failed to establish serial connection.')\n",
    "    \n",
    "loop = True"
   ]
  },
  {
   "cell_type": "code",
   "execution_count": 121,
   "metadata": {},
   "outputs": [
    {
     "name": "stdout",
     "output_type": "stream",
     "text": [
      "1.3375231597322943 -13.273264353151411 -70.50556403417532 -88.36521564320492 -58.34581943393328\n",
      ":230BAD -7051F-8837 -5835\n",
      "\n",
      "23\n",
      "0BAD \n",
      "horr: 1.3405 vert: -13.273125\n"
     ]
    }
   ],
   "source": [
    "def test_tss1():\n",
    "    hor_accel = rng.random()*9.81\n",
    "    vert_accel = rng.random()*20.47 - 20.47\n",
    "    heave = rng.random()*99.99 - 99.99\n",
    "    roll = rng.random()*99.99 - 99.99\n",
    "    pitch = rng.random()*99.99 - 99.99\n",
    "    print(f'{hor_accel} {vert_accel} {heave} {roll} {pitch}')\n",
    "    tss1 = rs6.create_tss1(hor_accel=hor_accel, vert_accel=vert_accel, heave=heave, roll=roll, pitch=pitch)\n",
    "    print(tss1)\n",
    "    rs6.decode_tss1(tss1)\n",
    "\n",
    "i = 0\n",
    "with open(r'./data/test.txt', 'w') as f2:\n",
    "    while i<1:\n",
    "        hor_accel = rng.random()*9.81\n",
    "        vert_accel = rng.random()*20.47 - 20.47\n",
    "        heave = rng.random()*99.99 - 99.99\n",
    "        roll = rng.random()*99.99 - 99.99\n",
    "        pitch = rng.random()*99.99 - 99.99\n",
    "        \n",
    "        print(f'{hor_accel} {vert_accel} {heave} {roll} {pitch}')\n",
    "        tss1 = rs6.create_tss1(hor_accel=hor_accel, vert_accel=vert_accel, heave=heave, roll=roll, pitch=pitch)\n",
    "        print(tss1)\n",
    "        data_bytes = tss1.encode('utf-8')\n",
    "        # ser.write(data_bytes)\n",
    "        f2.write(tss1)\n",
    "        \n",
    "        rs6.decode_tss1(tss1)\n",
    "        i+=1"
   ]
  },
  {
   "cell_type": "code",
   "execution_count": 105,
   "metadata": {},
   "outputs": [
    {
     "name": "stdout",
     "output_type": "stream",
     "text": [
      "EE90\n"
     ]
    }
   ],
   "source": []
  },
  {
   "cell_type": "code",
   "execution_count": 101,
   "metadata": {},
   "outputs": [],
   "source": [
    "am = bytes.fromhex(\"9098\")"
   ]
  },
  {
   "cell_type": "code",
   "execution_count": 104,
   "metadata": {},
   "outputs": [
    {
     "name": "stdout",
     "output_type": "stream",
     "text": [
      "-26480\n"
     ]
    }
   ],
   "source": [
    "hor_accel_b2 = struct.unpack('h', am)[0]\n",
    "print(hor_accel_b2)"
   ]
  },
  {
   "cell_type": "code",
   "execution_count": 23,
   "metadata": {},
   "outputs": [],
   "source": [
    "ser.close()"
   ]
  },
  {
   "cell_type": "code",
   "execution_count": null,
   "metadata": {},
   "outputs": [],
   "source": [
    "accel_z = raw_imu_dict[\"z_accel\"] * accel_scale_factor\n",
    "accel_x = raw_imu_dict[\"x_accel\"] * accel_scale_factor\n",
    "accel_y = raw_imu_dict[\"y_accel\"] * accel_scale_factor\n",
    "# A negative value implies the output is along the positive y-axis marked on the IMU\n",
    "# A positive value implies the change is in the direction opposite to that of the y-axis marked on the IMU.\n",
    "\n",
    "print(f\"accel z {accel_z:.05f} m/s\")\n",
    "print(f\"accel x {accel_x:.05f} m/s\")\n",
    "print(f\"accel y {accel_y:.05f} m/s\")\n",
    "\n",
    "print(f\"accel z {accel_z*200:.05f} m/s^2\")\n",
    "print(f\"accel x {accel_x*200:.05f} m/s^2\")\n",
    "print(f\"accel y {accel_y*200:.05f} m/s^2\")\n",
    "\n",
    "gyro_z = rad_to_deg(raw_imu_dict[\"z_gyro\"] * gyro_scale_factor)\n",
    "gyro_x = rad_to_deg(raw_imu_dict[\"x_gyro\"] * gyro_scale_factor)\n",
    "gyro_y = rad_to_deg(raw_imu_dict[\"y_gyro\"] * gyro_scale_factor)\n",
    "# A negative value implies the output is along the positive y-axis marked on the IMU\n",
    "# A positive value implies the change is in the direction opposite to that of the y-axis marked on the IMU.\n",
    "\n",
    "print(f\"gyro z {gyro_z:.05f} deg\")\n",
    "print(f\"gyro x {gyro_x:.05f} deg\")\n",
    "print(f\"gyro y {gyro_y:.05f} deg\")"
   ]
  }
 ],
 "metadata": {
  "kernelspec": {
   "display_name": "id_13pc",
   "language": "python",
   "name": "python3"
  },
  "language_info": {
   "codemirror_mode": {
    "name": "ipython",
    "version": 3
   },
   "file_extension": ".py",
   "mimetype": "text/x-python",
   "name": "python",
   "nbconvert_exporter": "python",
   "pygments_lexer": "ipython3",
   "version": "3.12.2"
  }
 },
 "nbformat": 4,
 "nbformat_minor": 2
}

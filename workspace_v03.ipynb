{
 "cells": [
  {
   "cell_type": "code",
   "execution_count": 6,
   "metadata": {},
   "outputs": [
    {
     "name": "stdout",
     "output_type": "stream",
     "text": [
      "The autoreload extension is already loaded. To reload it, use:\n",
      "  %reload_ext autoreload\n"
     ]
    }
   ],
   "source": [
    "%load_ext autoreload\n",
    "%autoreload 2\n",
    "\n",
    "import numpy as np\n",
    "import span6_to_tss1 as rs6\n",
    "\n",
    "def rad_to_deg(rad):\n",
    "    return rad*180/np.pi"
   ]
  },
  {
   "cell_type": "code",
   "execution_count": 9,
   "metadata": {},
   "outputs": [
    {
     "name": "stdout",
     "output_type": "stream",
     "text": [
      "end of the file\n",
      "51635578\n",
      "51635578\n",
      "Buffer's length is not 3 bytes!\n"
     ]
    }
   ],
   "source": [
    "data_span6 = r'.\\data\\20231213124021_svVexel_1312green2.span6'\n",
    "\n",
    "with open(data_span6, 'rb') as f1:\n",
    "    buffer = f1.read()\n",
    "\n",
    "offset = 0\n",
    "loop = True\n",
    "messages = []\n",
    "\n",
    "hor_accel = 0.0\n",
    "vert_accel = 0.0\n",
    "heave = 0.0\n",
    "roll = 0.0\n",
    "pitch = 0.0\n",
    "\n",
    "while loop:\n",
    "    try:\n",
    "        if len(buffer) == end:\n",
    "            print('end of the file')\n",
    "            loop = False\n",
    "\n",
    "        header_dict, header_len = rs6.read_span6_header(buffer, offset)\n",
    "        \n",
    "        if header_len != 28 and header_len != 12:\n",
    "            end = offset+header_len\n",
    "            # print(header_dict[\"string\"])\n",
    "            messages.append(0)\n",
    "        else:\n",
    "            message_len = header_dict[\"message_length\"]\n",
    "            mid = header_dict['message_id']\n",
    "            \n",
    "            end = offset+header_len+message_len+4\n",
    "            messages.append(mid)\n",
    "            # if mid == 1457:\n",
    "            #     rs6.read_span6_message(buffer[offset+header_len:end], mid,True)\n",
    "            #     # tss1 = create_tss1(hor_accel=, vert_accel=, heave=, roll=, roll=, pitch=)\n",
    "                    \n",
    "            #     loop = False\n",
    "                    \n",
    "        offset = end\n",
    "        \n",
    "        tss1 = rs6.create_tss1(hor_accel=hor_accel, vert_accel=vert_accel, heave=heave, roll=roll, pitch=pitch)\n",
    "    except RuntimeError as a:\n",
    "        print(a)\n",
    "        loop = False\n",
    "\n",
    "\n",
    "\n",
    "\n"
   ]
  },
  {
   "cell_type": "code",
   "execution_count": 11,
   "metadata": {},
   "outputs": [],
   "source": [
    "unq = np.unique(messages)"
   ]
  },
  {
   "cell_type": "code",
   "execution_count": 12,
   "metadata": {},
   "outputs": [
    {
     "data": {
      "text/plain": [
       "array([   0,   41,   42,   48,   83,  140,  231,  320,  723, 1163, 1457,\n",
       "       1462, 1465])"
      ]
     },
     "execution_count": 12,
     "metadata": {},
     "output_type": "execute_result"
    }
   ],
   "source": [
    "unq"
   ]
  },
  {
   "cell_type": "code",
   "execution_count": null,
   "metadata": {},
   "outputs": [],
   "source": []
  },
  {
   "cell_type": "code",
   "execution_count": null,
   "metadata": {},
   "outputs": [],
   "source": [
    "accel_z = raw_imu_dict[\"z_accel\"] * accel_scale_factor\n",
    "accel_x = raw_imu_dict[\"x_accel\"] * accel_scale_factor\n",
    "accel_y = raw_imu_dict[\"y_accel\"] * accel_scale_factor\n",
    "# A negative value implies the output is along the positive y-axis marked on the IMU\n",
    "# A positive value implies the change is in the direction opposite to that of the y-axis marked on the IMU.\n",
    "\n",
    "print(f\"accel z {accel_z:.05f} m/s\")\n",
    "print(f\"accel x {accel_x:.05f} m/s\")\n",
    "print(f\"accel y {accel_y:.05f} m/s\")\n",
    "\n",
    "print(f\"accel z {accel_z*200:.05f} m/s^2\")\n",
    "print(f\"accel x {accel_x*200:.05f} m/s^2\")\n",
    "print(f\"accel y {accel_y*200:.05f} m/s^2\")\n",
    "\n",
    "gyro_z = rad_to_deg(raw_imu_dict[\"z_gyro\"] * gyro_scale_factor)\n",
    "gyro_x = rad_to_deg(raw_imu_dict[\"x_gyro\"] * gyro_scale_factor)\n",
    "gyro_y = rad_to_deg(raw_imu_dict[\"y_gyro\"] * gyro_scale_factor)\n",
    "# A negative value implies the output is along the positive y-axis marked on the IMU\n",
    "# A positive value implies the change is in the direction opposite to that of the y-axis marked on the IMU.\n",
    "\n",
    "print(f\"gyro z {gyro_z:.05f} deg\")\n",
    "print(f\"gyro x {gyro_x:.05f} deg\")\n",
    "print(f\"gyro y {gyro_y:.05f} deg\")"
   ]
  }
 ],
 "metadata": {
  "kernelspec": {
   "display_name": "id_13pc",
   "language": "python",
   "name": "python3"
  },
  "language_info": {
   "codemirror_mode": {
    "name": "ipython",
    "version": 3
   },
   "file_extension": ".py",
   "mimetype": "text/x-python",
   "name": "python",
   "nbconvert_exporter": "python",
   "pygments_lexer": "ipython3",
   "version": "3.12.2"
  }
 },
 "nbformat": 4,
 "nbformat_minor": 2
}

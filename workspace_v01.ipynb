{
 "cells": [
  {
   "cell_type": "code",
   "execution_count": 2,
   "metadata": {},
   "outputs": [],
   "source": [
    "import struct\n"
   ]
  },
  {
   "cell_type": "code",
   "execution_count": 3,
   "metadata": {},
   "outputs": [
    {
     "name": "stdout",
     "output_type": "stream",
     "text": [
      "TSS1 Message: :4080FF -0200F-0300 -9900\n",
      "\n",
      "FF\n",
      "4080\n",
      "VertAccel\n",
      "(255,)\n",
      "9.7665\n",
      "HorrAccel\n",
      "(-32704,)\n",
      "-20.44\n"
     ]
    }
   ],
   "source": [
    "# TSS1 string example\n",
    "':00FFCA -0003F-0325    0319'\n",
    "'<CR><LF> = 0x0D0x0A' # newline character\n",
    "\n",
    "def convert_to_tss1(hor_accel, vert_accel, heave, roll, pitch, status_f='F'):\n",
    "   \n",
    "    hor_accel_b = ''  # two byte hex\n",
    "    hor_acc_lsb = 0.0383  # m/s^2\n",
    "    vert_accel_b = ''  # two byte hex\n",
    "    vert_accel_lsb = 0.000625  # m/s^2\n",
    "    \n",
    "    heave_b = int()  # four digit integer\n",
    "    heave_b_polarity = ' '  # space if positive, minus sign (-) if negative\n",
    "    heave_lsb = 0.01  # m\n",
    "    \n",
    "    status_flag = status_f  # F if INS Active, H if INS has not fompleted an aligment\n",
    "    \n",
    "    roll_b = int()  # four digit integer\n",
    "    roll_b_polarity = ' '  # space if positive, minus sign (-) if negative\n",
    "    roll_lsb = 0.01  # deg\n",
    "    \n",
    "    pitch_b = int()  # four digit integer\n",
    "    pitch_b_polarity = ' '  # space if positive, minus sign (-) if negative\n",
    "    pitch_lsb = 0.01  # deg\n",
    "    \n",
    "    if hor_accel >= 9.771:\n",
    "        hor_accel_b = struct.pack('B', int(hor_accel/hor_acc_lsb)).hex().upper()\n",
    "    else:\n",
    "        hor_accel_b = struct.pack('B', round(hor_accel/hor_acc_lsb)).hex().upper()\n",
    "    \n",
    "    vert_accel_b = struct.pack('h',round(vert_accel/vert_accel_lsb)).hex().upper()\n",
    "    \n",
    "    if heave < 0:\n",
    "        heave_b_polarity = '-'\n",
    "        heave_b = round(heave*-1*100)\n",
    "    else:\n",
    "        heave_b_polarity = ' '\n",
    "        heave_b = round(heave*100)\n",
    "    \n",
    "    if roll < 0:\n",
    "        roll_b_polarity = '-'\n",
    "        roll_b = round(roll*-1*100)\n",
    "    else:\n",
    "        roll_b_polarity = ' '\n",
    "        roll_b = round(roll*100)\n",
    "    \n",
    "    if pitch < 0:\n",
    "        pitch_b_polarity = '-'\n",
    "        pitch_b = round(pitch*-1*100)\n",
    "    else:\n",
    "        pitch_b_polarity = ' '\n",
    "        pitch_b = round(pitch*100)\n",
    "    \n",
    "    \n",
    "    tss1_message = f':{vert_accel_b}{hor_accel_b} {heave_b_polarity}{heave_b:04d}{status_flag}{roll_b_polarity}{roll_b:04d} {pitch_b_polarity}{pitch_b:04d}\\n'\n",
    "    print(f'TSS1 Message: {tss1_message}')\n",
    "    \n",
    "    return hor_accel_b, vert_accel_b\n",
    "\n",
    "# testing\n",
    "ha, va = convert_to_tss1(hor_accel=9.76, vert_accel=-20.44, heave=-2, roll=-3, pitch=-99)\n",
    "print(ha)\n",
    "print(va)\n",
    "# va = 'FFCA'\n",
    "\n",
    "# TESTING\n",
    "print('VertAccel')\n",
    "test = struct.Struct('<B')\n",
    "test_unpacked = test.unpack(bytes.fromhex(ha))\n",
    "print(test_unpacked)\n",
    "print(test_unpacked[0]*0.0383)\n",
    "\n",
    "print('HorrAccel')\n",
    "test = struct.Struct('<h')\n",
    "test_unpacked = test.unpack(bytes.fromhex(va))\n",
    "print(test_unpacked)\n",
    "print(test_unpacked[0]*0.000625)\n",
    "    "
   ]
  },
  {
   "cell_type": "code",
   "execution_count": 4,
   "metadata": {},
   "outputs": [
    {
     "name": "stdout",
     "output_type": "stream",
     "text": [
      "TSS1 Message: :4080FF -0200F-0300 -9900\n",
      "\n",
      "FF\n",
      "4080\n",
      "VertAccel\n",
      "(255,)\n",
      "9.7665\n",
      "HorrAccel\n",
      "(-32704,)\n",
      "-20.44\n"
     ]
    }
   ],
   "source": [
    "ha, va = convert_to_tss1(hor_accel=9.76, vert_accel=-20.44, heave=-2, roll=-3, pitch=-99)\n",
    "print(ha)\n",
    "print(va)\n",
    "# va = 'FFCA'\n",
    "\n",
    "# TESTING\n",
    "print('VertAccel')\n",
    "test = struct.Struct('<B')\n",
    "test_unpacked = test.unpack(bytes.fromhex(ha))\n",
    "print(test_unpacked)\n",
    "print(test_unpacked[0]*0.0383)\n",
    "\n",
    "print('HorrAccel')\n",
    "test = struct.Struct('<h')\n",
    "test_unpacked = test.unpack(bytes.fromhex(va))\n",
    "print(test_unpacked)\n",
    "print(test_unpacked[0]*0.000625)\n",
    "\n"
   ]
  }
 ],
 "metadata": {
  "kernelspec": {
   "display_name": "id_13pc",
   "language": "python",
   "name": "python3"
  },
  "language_info": {
   "codemirror_mode": {
    "name": "ipython",
    "version": 3
   },
   "file_extension": ".py",
   "mimetype": "text/x-python",
   "name": "python",
   "nbconvert_exporter": "python",
   "pygments_lexer": "ipython3",
   "version": "3.12.2"
  }
 },
 "nbformat": 4,
 "nbformat_minor": 2
}
